{
 "cells": [
  {
   "cell_type": "markdown",
   "id": "17dba737-b1b8-4bdc-a305-8ca0cffd3c38",
   "metadata": {},
   "source": [
    "# Data Cleaning – Bharat Herald Media Survival Analysis"
   ]
  },
  {
   "cell_type": "markdown",
   "id": "d65e11d6-c194-49ae-ba8e-4bb5d2d069ae",
   "metadata": {},
   "source": [
    "## This notebook contains the steps for cleaning and preparing the datasets using Python and Pandas."
   ]
  },
  {
   "cell_type": "markdown",
   "id": "4c5cc98e-c95d-448b-a7b9-13ce2ae5ca25",
   "metadata": {},
   "source": [
    "### Import Libraries"
   ]
  },
  {
   "cell_type": "code",
   "execution_count": 2,
   "id": "0ddb297f-db1a-416d-af96-93076caa493f",
   "metadata": {},
   "outputs": [],
   "source": [
    "import pandas as pd"
   ]
  },
  {
   "cell_type": "markdown",
   "id": "ca27a2b2-a7f4-4c14-ab1a-1890b7d270b3",
   "metadata": {},
   "source": [
    "### Load the print_sales dataset"
   ]
  },
  {
   "cell_type": "code",
   "execution_count": 3,
   "id": "8b6ae2b7-85d3-41c4-89e3-1d1a64b2e73e",
   "metadata": {},
   "outputs": [
    {
     "name": "stdout",
     "output_type": "stream",
     "text": [
      "    edition_ID City_ID Language           State                Month  \\\n",
      "0       ED1005    C005    Hindi       Rajasthan  2023-05-01 00:00:00   \n",
      "1       ED1005    C005    Hindi       Rajasthan  2019-03-01 00:00:00   \n",
      "2       ED1001    C001    hindi   Uttar pradesh  2023-07-01 00:00:00   \n",
      "3       ED1003    C003    Hindi  Madhya_Pradesh  2023-07-01 00:00:00   \n",
      "4       ED1007    C007    Hindi       Jharkhand  2020-10-01 00:00:00   \n",
      "..         ...     ...      ...             ...                  ...   \n",
      "715     ED1001    C001    hindi   Uttar pradesh  2024-12-01 00:00:00   \n",
      "716     ED1002    C002  ENGLISH           Delhi  2021-11-01 00:00:00   \n",
      "717     ED1004    C004    Hindi           bihar  2023-07-01 00:00:00   \n",
      "718     ED1007    C007    Hindi       Jharkhand  2019-04-01 00:00:00   \n",
      "719     ED1002    C002  ENGLISH           Delhi  2021-07-01 00:00:00   \n",
      "\n",
      "    Copies_Sold  copies_returned  Net_Circulation  \n",
      "0        404389            13510           390879  \n",
      "1        492943            25024           467919  \n",
      "2        168893            12285           156608  \n",
      "3        216540            10117           206423  \n",
      "4        234563            13048           221515  \n",
      "..          ...              ...              ...  \n",
      "715   â‚¹152122             7049           145073  \n",
      "716      356211            25456           330755  \n",
      "717      203130            12260           190870  \n",
      "718      253719            16510           237209  \n",
      "719      348093            11620           336473  \n",
      "\n",
      "[720 rows x 8 columns]\n"
     ]
    }
   ],
   "source": [
    "print_sales = pd.read_excel(\"C:/Users/Arshad/Desktop/Datasets/CodeBasics/Challenge #17/Datasets/fact_print_sales.xlsx\")\n",
    "df = pd.DataFrame(print_sales)\n",
    "print(df)"
   ]
  },
  {
   "cell_type": "markdown",
   "id": "4860d9d4-fe7f-4627-9835-db1582d5963d",
   "metadata": {},
   "source": [
    "### Reformat column headers to title case"
   ]
  },
  {
   "cell_type": "code",
   "execution_count": 5,
   "id": "2fb3f279-13e3-4157-a052-46275a00f0e4",
   "metadata": {},
   "outputs": [
    {
     "name": "stdout",
     "output_type": "stream",
     "text": [
      "    Edition_Id City_Id Language           State                Month  \\\n",
      "0       ED1005    C005    Hindi       Rajasthan  2023-05-01 00:00:00   \n",
      "1       ED1005    C005    Hindi       Rajasthan  2019-03-01 00:00:00   \n",
      "2       ED1001    C001    hindi   Uttar pradesh  2023-07-01 00:00:00   \n",
      "3       ED1003    C003    Hindi  Madhya_Pradesh  2023-07-01 00:00:00   \n",
      "4       ED1007    C007    Hindi       Jharkhand  2020-10-01 00:00:00   \n",
      "..         ...     ...      ...             ...                  ...   \n",
      "715     ED1001    C001    hindi   Uttar pradesh  2024-12-01 00:00:00   \n",
      "716     ED1002    C002  ENGLISH           Delhi  2021-11-01 00:00:00   \n",
      "717     ED1004    C004    Hindi           bihar  2023-07-01 00:00:00   \n",
      "718     ED1007    C007    Hindi       Jharkhand  2019-04-01 00:00:00   \n",
      "719     ED1002    C002  ENGLISH           Delhi  2021-07-01 00:00:00   \n",
      "\n",
      "    Copies_Sold  Copies_Returned  Net_Circulation  \n",
      "0        404389            13510           390879  \n",
      "1        492943            25024           467919  \n",
      "2        168893            12285           156608  \n",
      "3        216540            10117           206423  \n",
      "4        234563            13048           221515  \n",
      "..          ...              ...              ...  \n",
      "715   â‚¹152122             7049           145073  \n",
      "716      356211            25456           330755  \n",
      "717      203130            12260           190870  \n",
      "718      253719            16510           237209  \n",
      "719      348093            11620           336473  \n",
      "\n",
      "[720 rows x 8 columns]\n"
     ]
    }
   ],
   "source": [
    "df.columns = df.columns.str.title()\n",
    "print(df)"
   ]
  },
  {
   "cell_type": "markdown",
   "id": "020cf300-8ae6-4be4-9965-56f8b24179f9",
   "metadata": {},
   "source": [
    "### Check Data Information"
   ]
  },
  {
   "cell_type": "code",
   "execution_count": 6,
   "id": "11e38ab8-7c91-4258-8739-ea7db5f4fe3d",
   "metadata": {},
   "outputs": [
    {
     "name": "stdout",
     "output_type": "stream",
     "text": [
      "<class 'pandas.core.frame.DataFrame'>\n",
      "RangeIndex: 720 entries, 0 to 719\n",
      "Data columns (total 8 columns):\n",
      " #   Column           Non-Null Count  Dtype \n",
      "---  ------           --------------  ----- \n",
      " 0   Edition_Id       720 non-null    object\n",
      " 1   City_Id          720 non-null    object\n",
      " 2   Language         720 non-null    object\n",
      " 3   State            720 non-null    object\n",
      " 4   Month            720 non-null    object\n",
      " 5   Copies_Sold      720 non-null    object\n",
      " 6   Copies_Returned  720 non-null    int64 \n",
      " 7   Net_Circulation  720 non-null    int64 \n",
      "dtypes: int64(2), object(6)\n",
      "memory usage: 45.1+ KB\n",
      "None\n"
     ]
    }
   ],
   "source": [
    "print(df.info())"
   ]
  },
  {
   "cell_type": "markdown",
   "id": "13f270f0-5624-48d5-8d40-3c342f789a9f",
   "metadata": {},
   "source": [
    "### Check Uniqueness of Columns"
   ]
  },
  {
   "cell_type": "code",
   "execution_count": 7,
   "id": "81c6c69d-bfb1-4cf8-834e-41be5a0839b9",
   "metadata": {},
   "outputs": [
    {
     "name": "stdout",
     "output_type": "stream",
     "text": [
      "['Rajasthan' 'Uttar pradesh' 'Madhya_Pradesh' 'Jharkhand' 'maharashtra'\n",
      " 'Uttar-Pradesh' 'Delhi' 'gujarat' 'bihar' 'Uttar Pradesh']\n",
      "['Hindi' 'hindi' 'english' 'ENGLISH']\n"
     ]
    }
   ],
   "source": [
    "print(df['State'].unique())\n",
    "print(df['Language'].unique())"
   ]
  },
  {
   "cell_type": "markdown",
   "id": "b758704e-c8a4-43a5-927e-0937b0d89639",
   "metadata": {},
   "source": [
    "### Format Language and State Values"
   ]
  },
  {
   "cell_type": "code",
   "execution_count": 8,
   "id": "0efeceb1-97b3-46a9-b0ff-a8f6b55a63ce",
   "metadata": {
    "scrolled": true
   },
   "outputs": [
    {
     "name": "stdout",
     "output_type": "stream",
     "text": [
      "    Edition_Id City_Id Language           State                Month  \\\n",
      "0       ED1005    C005    Hindi       Rajasthan  2023-05-01 00:00:00   \n",
      "1       ED1005    C005    Hindi       Rajasthan  2019-03-01 00:00:00   \n",
      "2       ED1001    C001    Hindi   Uttar Pradesh  2023-07-01 00:00:00   \n",
      "3       ED1003    C003    Hindi  Madhya_Pradesh  2023-07-01 00:00:00   \n",
      "4       ED1007    C007    Hindi       Jharkhand  2020-10-01 00:00:00   \n",
      "..         ...     ...      ...             ...                  ...   \n",
      "715     ED1001    C001    Hindi   Uttar Pradesh  2024-12-01 00:00:00   \n",
      "716     ED1002    C002  English           Delhi  2021-11-01 00:00:00   \n",
      "717     ED1004    C004    Hindi           Bihar  2023-07-01 00:00:00   \n",
      "718     ED1007    C007    Hindi       Jharkhand  2019-04-01 00:00:00   \n",
      "719     ED1002    C002  English           Delhi  2021-07-01 00:00:00   \n",
      "\n",
      "    Copies_Sold  Copies_Returned  Net_Circulation  \n",
      "0        404389            13510           390879  \n",
      "1        492943            25024           467919  \n",
      "2        168893            12285           156608  \n",
      "3        216540            10117           206423  \n",
      "4        234563            13048           221515  \n",
      "..          ...              ...              ...  \n",
      "715   â‚¹152122             7049           145073  \n",
      "716      356211            25456           330755  \n",
      "717      203130            12260           190870  \n",
      "718      253719            16510           237209  \n",
      "719      348093            11620           336473  \n",
      "\n",
      "[720 rows x 8 columns]\n"
     ]
    }
   ],
   "source": [
    "columns_to_change = ['Language','State']\n",
    "for col in columns_to_change:\n",
    "    df[col] = df[col].str.title()\n",
    "    \n",
    "print(df) "
   ]
  },
  {
   "cell_type": "markdown",
   "id": "4e5e3075-1066-4ca7-a1ec-004fe4294fc0",
   "metadata": {},
   "source": [
    "### Change Month format to mmm-yy and add Year and Month_Year Columns"
   ]
  },
  {
   "cell_type": "code",
   "execution_count": 9,
   "id": "fda1b0e7-e885-4a8d-b3fa-244d559838a7",
   "metadata": {},
   "outputs": [
    {
     "name": "stdout",
     "output_type": "stream",
     "text": [
      "    Edition_Id City_Id Language           State      Month Copies_Sold  \\\n",
      "0       ED1005    C005    Hindi       Rajasthan 2023-05-01      404389   \n",
      "1       ED1005    C005    Hindi       Rajasthan 2019-03-01      492943   \n",
      "2       ED1001    C001    Hindi   Uttar Pradesh 2023-07-01      168893   \n",
      "3       ED1003    C003    Hindi  Madhya_Pradesh 2023-07-01      216540   \n",
      "4       ED1007    C007    Hindi       Jharkhand 2020-10-01      234563   \n",
      "..         ...     ...      ...             ...        ...         ...   \n",
      "715     ED1001    C001    Hindi   Uttar Pradesh 2024-12-01   â‚¹152122   \n",
      "716     ED1002    C002  English           Delhi 2021-11-01      356211   \n",
      "717     ED1004    C004    Hindi           Bihar 2023-07-01      203130   \n",
      "718     ED1007    C007    Hindi       Jharkhand 2019-04-01      253719   \n",
      "719     ED1002    C002  English           Delhi 2021-07-01      348093   \n",
      "\n",
      "     Copies_Returned  Net_Circulation Month_Year  Year  \n",
      "0              13510           390879     May-23  2023  \n",
      "1              25024           467919     Mar-19  2019  \n",
      "2              12285           156608     Jul-23  2023  \n",
      "3              10117           206423     Jul-23  2023  \n",
      "4              13048           221515     Oct-20  2020  \n",
      "..               ...              ...        ...   ...  \n",
      "715             7049           145073     Dec-24  2024  \n",
      "716            25456           330755     Nov-21  2021  \n",
      "717            12260           190870     Jul-23  2023  \n",
      "718            16510           237209     Apr-19  2019  \n",
      "719            11620           336473     Jul-21  2021  \n",
      "\n",
      "[720 rows x 10 columns]\n"
     ]
    }
   ],
   "source": [
    "df['Month']= pd.to_datetime(df['Month'])\n",
    "df['Month_Year'] = df['Month'].dt.strftime('%b-%y')\n",
    "df['Year'] = df['Month'].dt.strftime('%Y')\n",
    "print(df)"
   ]
  },
  {
   "cell_type": "markdown",
   "id": "7552ca85-f783-4509-a293-8f67297ccdf6",
   "metadata": {},
   "source": [
    "### Replace the the extra symbols "
   ]
  },
  {
   "cell_type": "code",
   "execution_count": 10,
   "id": "7621a947-d920-4e09-981f-1f0a09bcc95a",
   "metadata": {},
   "outputs": [
    {
     "name": "stdout",
     "output_type": "stream",
     "text": [
      "    Edition_Id City_Id Language           State      Month Copies_Sold  \\\n",
      "0       ED1005    C005    Hindi       Rajasthan 2023-05-01      404389   \n",
      "1       ED1005    C005    Hindi       Rajasthan 2019-03-01      492943   \n",
      "2       ED1001    C001    Hindi   Uttar Pradesh 2023-07-01      168893   \n",
      "3       ED1003    C003    Hindi  Madhya Pradesh 2023-07-01      216540   \n",
      "4       ED1007    C007    Hindi       Jharkhand 2020-10-01      234563   \n",
      "..         ...     ...      ...             ...        ...         ...   \n",
      "715     ED1001    C001    Hindi   Uttar Pradesh 2024-12-01      152122   \n",
      "716     ED1002    C002  English           Delhi 2021-11-01      356211   \n",
      "717     ED1004    C004    Hindi           Bihar 2023-07-01      203130   \n",
      "718     ED1007    C007    Hindi       Jharkhand 2019-04-01      253719   \n",
      "719     ED1002    C002  English           Delhi 2021-07-01      348093   \n",
      "\n",
      "     Copies_Returned  Net_Circulation Month_Year  Year  \n",
      "0              13510           390879     May-23  2023  \n",
      "1              25024           467919     Mar-19  2019  \n",
      "2              12285           156608     Jul-23  2023  \n",
      "3              10117           206423     Jul-23  2023  \n",
      "4              13048           221515     Oct-20  2020  \n",
      "..               ...              ...        ...   ...  \n",
      "715             7049           145073     Dec-24  2024  \n",
      "716            25456           330755     Nov-21  2021  \n",
      "717            12260           190870     Jul-23  2023  \n",
      "718            16510           237209     Apr-19  2019  \n",
      "719            11620           336473     Jul-21  2021  \n",
      "\n",
      "[720 rows x 10 columns]\n"
     ]
    }
   ],
   "source": [
    "df['State'] = df['State'].str.replace('_',' ').str.replace('-',' ')\n",
    "df['Copies_Sold'] = df['Copies_Sold'].astype(str).str.replace('â‚¹',' ')\n",
    "\n",
    "print(df)"
   ]
  },
  {
   "cell_type": "markdown",
   "id": "8f3a9c18-6041-41de-86cc-346f4cc49971",
   "metadata": {},
   "source": [
    "###  Saved the file"
   ]
  },
  {
   "cell_type": "code",
   "execution_count": 11,
   "id": "b8653711-feba-43cd-869c-e87a470f44a0",
   "metadata": {},
   "outputs": [],
   "source": [
    "df.to_csv(\"print_sales.csv\",index=False)"
   ]
  },
  {
   "cell_type": "markdown",
   "id": "cf2607e9-42eb-488a-a4ae-349aca1f1d09",
   "metadata": {},
   "source": [
    "### Load the ad_revenue dataset"
   ]
  },
  {
   "cell_type": "code",
   "execution_count": 17,
   "id": "fb22d0dc-25fe-4d1d-a485-f6f1b3e01dc3",
   "metadata": {},
   "outputs": [
    {
     "name": "stdout",
     "output_type": "stream",
     "text": [
      "    edition_id ad_category       quarter  ad_revenue currency  \\\n",
      "0       ED1005        A001       2023-Q2    22613.69      EUR   \n",
      "1       ED1005        A002       Q1-2019    39366.88      USD   \n",
      "2       ED1001        A003       Q3-2023  3709860.00      INR   \n",
      "3       ED1003        A002       Q3-2023    40969.55      USD   \n",
      "4       ED1007        A003  4th Qtr 2020    51779.40      USD   \n",
      "..         ...         ...           ...         ...      ...   \n",
      "715     ED1001        A004  4th Qtr 2024  1796584.00      INR   \n",
      "716     ED1002        A004  4th Qtr 2021  3341770.00      INR   \n",
      "717     ED1004        A001       Q3-2023    35322.16      USD   \n",
      "718     ED1007        A002       2019-Q2  4981620.00      INR   \n",
      "719     ED1002        A003       Q3-2021    17092.90      USD   \n",
      "\n",
      "                 comments  \n",
      "0                     NaN  \n",
      "1                     NaN  \n",
      "2                     NaN  \n",
      "3                     NaN  \n",
      "4                     NaN  \n",
      "..                    ...  \n",
      "715                   NaN  \n",
      "716                   NaN  \n",
      "717                   NaN  \n",
      "718                   NaN  \n",
      "719  Real estate slowdown  \n",
      "\n",
      "[720 rows x 6 columns]\n"
     ]
    }
   ],
   "source": [
    "ad_revenue = pd.read_csv(\"C:/Users/Arshad/Desktop/Datasets/CodeBasics/Challenge #17/Datasets/fact_ad_revenue.csv\")\n",
    "df1 = pd.DataFrame(ad_revenue)\n",
    "print(df1)"
   ]
  },
  {
   "cell_type": "markdown",
   "id": "8a8df3a8-299f-46d1-ae16-26a82919716d",
   "metadata": {},
   "source": [
    "### Check Data Information"
   ]
  },
  {
   "cell_type": "code",
   "execution_count": 18,
   "id": "c8fed35d-dfa7-4211-9cca-bc8c907b4e8f",
   "metadata": {},
   "outputs": [
    {
     "name": "stdout",
     "output_type": "stream",
     "text": [
      "<class 'pandas.core.frame.DataFrame'>\n",
      "RangeIndex: 720 entries, 0 to 719\n",
      "Data columns (total 6 columns):\n",
      " #   Column       Non-Null Count  Dtype  \n",
      "---  ------       --------------  -----  \n",
      " 0   edition_id   720 non-null    object \n",
      " 1   ad_category  720 non-null    object \n",
      " 2   quarter      720 non-null    object \n",
      " 3   ad_revenue   720 non-null    float64\n",
      " 4   currency     720 non-null    object \n",
      " 5   comments     38 non-null     object \n",
      "dtypes: float64(1), object(5)\n",
      "memory usage: 33.9+ KB\n",
      "None\n"
     ]
    }
   ],
   "source": [
    "print(df1.info())"
   ]
  },
  {
   "cell_type": "markdown",
   "id": "d453578b-ad29-443e-8b80-436b4486ef8f",
   "metadata": {},
   "source": [
    "### Reformat column headers to title case"
   ]
  },
  {
   "cell_type": "code",
   "execution_count": 19,
   "id": "865ea624-d2b9-4802-874b-c4fd33843554",
   "metadata": {},
   "outputs": [
    {
     "name": "stdout",
     "output_type": "stream",
     "text": [
      "    Edition_Id Ad_Category       Quarter  Ad_Revenue Currency  \\\n",
      "0       ED1005        A001       2023-Q2    22613.69      EUR   \n",
      "1       ED1005        A002       Q1-2019    39366.88      USD   \n",
      "2       ED1001        A003       Q3-2023  3709860.00      INR   \n",
      "3       ED1003        A002       Q3-2023    40969.55      USD   \n",
      "4       ED1007        A003  4th Qtr 2020    51779.40      USD   \n",
      "..         ...         ...           ...         ...      ...   \n",
      "715     ED1001        A004  4th Qtr 2024  1796584.00      INR   \n",
      "716     ED1002        A004  4th Qtr 2021  3341770.00      INR   \n",
      "717     ED1004        A001       Q3-2023    35322.16      USD   \n",
      "718     ED1007        A002       2019-Q2  4981620.00      INR   \n",
      "719     ED1002        A003       Q3-2021    17092.90      USD   \n",
      "\n",
      "                 Comments  \n",
      "0                     NaN  \n",
      "1                     NaN  \n",
      "2                     NaN  \n",
      "3                     NaN  \n",
      "4                     NaN  \n",
      "..                    ...  \n",
      "715                   NaN  \n",
      "716                   NaN  \n",
      "717                   NaN  \n",
      "718                   NaN  \n",
      "719  Real estate slowdown  \n",
      "\n",
      "[720 rows x 6 columns]\n"
     ]
    }
   ],
   "source": [
    "df1.columns = df1.columns.str.title()\n",
    "print(df1)"
   ]
  },
  {
   "cell_type": "markdown",
   "id": "c603ff89-80a0-416b-974b-b6028bb8ba19",
   "metadata": {},
   "source": [
    "### Deleted the comments column"
   ]
  },
  {
   "cell_type": "code",
   "execution_count": 20,
   "id": "2021b4d9-7041-45fe-90fb-5eff4691097e",
   "metadata": {},
   "outputs": [
    {
     "name": "stdout",
     "output_type": "stream",
     "text": [
      "    Edition_Id Ad_Category       Quarter  Ad_Revenue Currency\n",
      "0       ED1005        A001       2023-Q2    22613.69      EUR\n",
      "1       ED1005        A002       Q1-2019    39366.88      USD\n",
      "2       ED1001        A003       Q3-2023  3709860.00      INR\n",
      "3       ED1003        A002       Q3-2023    40969.55      USD\n",
      "4       ED1007        A003  4th Qtr 2020    51779.40      USD\n",
      "..         ...         ...           ...         ...      ...\n",
      "715     ED1001        A004  4th Qtr 2024  1796584.00      INR\n",
      "716     ED1002        A004  4th Qtr 2021  3341770.00      INR\n",
      "717     ED1004        A001       Q3-2023    35322.16      USD\n",
      "718     ED1007        A002       2019-Q2  4981620.00      INR\n",
      "719     ED1002        A003       Q3-2021    17092.90      USD\n",
      "\n",
      "[720 rows x 5 columns]\n"
     ]
    }
   ],
   "source": [
    "df1.drop('Comments', axis= 1, inplace= True)\n",
    "print(df1)"
   ]
  },
  {
   "cell_type": "markdown",
   "id": "ce53118c-cfe3-43a4-b3db-f81ca3731c26",
   "metadata": {},
   "source": [
    "### check uniqueness of columns"
   ]
  },
  {
   "cell_type": "code",
   "execution_count": 21,
   "id": "95cabeb4-3d3b-4b2b-8f61-e4e6d1332a8d",
   "metadata": {},
   "outputs": [
    {
     "name": "stdout",
     "output_type": "stream",
     "text": [
      "['EUR' 'USD' 'INR' 'IN RUPEES']\n",
      "['2023-Q2' 'Q1-2019' 'Q3-2023' '4th Qtr 2020' '2024-Q2' '2019-Q2'\n",
      " 'Q3-2021' '4th Qtr 2023' '2020-Q2' '2022-Q2' '2021-Q2' '4th Qtr 2024'\n",
      " 'Q1-2020' 'Q3-2022' 'Q3-2019' '4th Qtr 2021' 'Q1-2022' '4th Qtr 2022'\n",
      " 'Q3-2024' 'Q1-2023' 'Q1-2024' 'Q3-2020' 'Q1-2021' '4th Qtr 2019']\n"
     ]
    }
   ],
   "source": [
    "print(df1['Currency'].unique())\n",
    "print(df1['Quarter'].unique())"
   ]
  },
  {
   "cell_type": "markdown",
   "id": "37820c5e-201b-4ce6-9481-e9cb71c8145b",
   "metadata": {},
   "source": [
    "### Replace the unnecessary value"
   ]
  },
  {
   "cell_type": "code",
   "execution_count": 22,
   "id": "d6e5728a-27ca-4e50-b4a7-4f384bc59a4c",
   "metadata": {},
   "outputs": [
    {
     "name": "stdout",
     "output_type": "stream",
     "text": [
      "    Edition_Id Ad_Category       Quarter  Ad_Revenue Currency\n",
      "0       ED1005        A001       2023-Q2    22613.69      EUR\n",
      "1       ED1005        A002       Q1-2019    39366.88      USD\n",
      "2       ED1001        A003       Q3-2023  3709860.00      INR\n",
      "3       ED1003        A002       Q3-2023    40969.55      USD\n",
      "4       ED1007        A003  4th Qtr 2020    51779.40      USD\n",
      "..         ...         ...           ...         ...      ...\n",
      "715     ED1001        A004  4th Qtr 2024  1796584.00      INR\n",
      "716     ED1002        A004  4th Qtr 2021  3341770.00      INR\n",
      "717     ED1004        A001       Q3-2023    35322.16      USD\n",
      "718     ED1007        A002       2019-Q2  4981620.00      INR\n",
      "719     ED1002        A003       Q3-2021    17092.90      USD\n",
      "\n",
      "[720 rows x 5 columns]\n"
     ]
    }
   ],
   "source": [
    "df1['Currency'] = df1['Currency'].replace('IN RUPEES','INR')\n",
    "print(df1)"
   ]
  },
  {
   "cell_type": "markdown",
   "id": "2415e3b6-ff9a-41bc-8298-56af69f736cd",
   "metadata": {},
   "source": [
    "### Format the Quarter column to Q1-yyyy"
   ]
  },
  {
   "cell_type": "code",
   "execution_count": 23,
   "id": "10efd2b2-6f6e-4378-8ccc-50cc1cb01fab",
   "metadata": {},
   "outputs": [
    {
     "name": "stdout",
     "output_type": "stream",
     "text": [
      "    Edition_Id Ad_Category       Quarter  Ad_Revenue Currency part_1 part_2  \\\n",
      "0       ED1005        A001       2023-Q2    22613.69      EUR   2023     Q2   \n",
      "1       ED1005        A002       Q1-2019    39366.88      USD     Q1   2019   \n",
      "2       ED1001        A003       Q3-2023  3709860.00      INR     Q3   2023   \n",
      "3       ED1003        A002       Q3-2023    40969.55      USD     Q3   2023   \n",
      "4       ED1007        A003  4th Qtr 2020    51779.40      USD     Q4          \n",
      "..         ...         ...           ...         ...      ...    ...    ...   \n",
      "715     ED1001        A004  4th Qtr 2024  1796584.00      INR     Q4          \n",
      "716     ED1002        A004  4th Qtr 2021  3341770.00      INR     Q4          \n",
      "717     ED1004        A001       Q3-2023    35322.16      USD     Q3   2023   \n",
      "718     ED1007        A002       2019-Q2  4981620.00      INR   2019     Q2   \n",
      "719     ED1002        A003       Q3-2021    17092.90      USD     Q3   2021   \n",
      "\n",
      "    part_3  Year Quart Quart_Year  \n",
      "0     None  2023    Q2    Q2-2023  \n",
      "1     None  2019    Q1    Q1-2019  \n",
      "2     None  2023    Q3    Q3-2023  \n",
      "3     None  2023    Q3    Q3-2023  \n",
      "4     2020  2020    Q4    Q4-2020  \n",
      "..     ...   ...   ...        ...  \n",
      "715   2024  2024    Q4    Q4-2024  \n",
      "716   2021  2021    Q4    Q4-2021  \n",
      "717   None  2023    Q3    Q3-2023  \n",
      "718   None  2019    Q2    Q2-2019  \n",
      "719   None  2021    Q3    Q3-2021  \n",
      "\n",
      "[720 rows x 11 columns]\n"
     ]
    }
   ],
   "source": [
    "df1[['part_1','part_2','part_3']] = df1['Quarter'].str.split(r'[- ' ']', expand =True )\n",
    "df1['part_1'] = df1['part_1'].str.replace('4th','Q4')\n",
    "df1['part_2'] = df1['part_2'].str.replace('Qtr',' ')\n",
    "\n",
    "def extract_year(row):\n",
    "    for col in ['part_1', 'part_2','part_3']:\n",
    "        val = row[col]\n",
    "        if pd.notnull(val) and str(val).isdigit() and len(str(val)) == 4:\n",
    "            return str(val)\n",
    "    return None\n",
    "\n",
    "df1['Year'] = df1.apply(extract_year, axis=1)\n",
    "\n",
    "def extract_quarter(row):\n",
    "    for col in ['part_1', 'part_2']:\n",
    "        val = row[col]\n",
    "        if pd.notnull(val) and str(val).isalnum() and len(str(val)) == 2:\n",
    "            return str(val)\n",
    "    return None\n",
    "\n",
    "df1['Quart'] = df1.apply(extract_quarter, axis=1)\n",
    "df1['Quart_Year'] = df1['Quart']+ '-'+ df1['Year']\n",
    "\n",
    "print(df1)"
   ]
  },
  {
   "cell_type": "markdown",
   "id": "c962b868-9e6a-45fd-88ae-f6f209606b27",
   "metadata": {},
   "source": [
    "### Deleted the unnecessary columns "
   ]
  },
  {
   "cell_type": "code",
   "execution_count": 24,
   "id": "44d18980-2049-480a-84b3-efe20911ae85",
   "metadata": {},
   "outputs": [
    {
     "name": "stdout",
     "output_type": "stream",
     "text": [
      "    Edition_Id Ad_Category  Ad_Revenue Currency  Year Quart Quart_Year\n",
      "0       ED1005        A001    22613.69      EUR  2023    Q2    Q2-2023\n",
      "1       ED1005        A002    39366.88      USD  2019    Q1    Q1-2019\n",
      "2       ED1001        A003  3709860.00      INR  2023    Q3    Q3-2023\n",
      "3       ED1003        A002    40969.55      USD  2023    Q3    Q3-2023\n",
      "4       ED1007        A003    51779.40      USD  2020    Q4    Q4-2020\n",
      "..         ...         ...         ...      ...   ...   ...        ...\n",
      "715     ED1001        A004  1796584.00      INR  2024    Q4    Q4-2024\n",
      "716     ED1002        A004  3341770.00      INR  2021    Q4    Q4-2021\n",
      "717     ED1004        A001    35322.16      USD  2023    Q3    Q3-2023\n",
      "718     ED1007        A002  4981620.00      INR  2019    Q2    Q2-2019\n",
      "719     ED1002        A003    17092.90      USD  2021    Q3    Q3-2021\n",
      "\n",
      "[720 rows x 7 columns]\n"
     ]
    }
   ],
   "source": [
    "df1.drop(['Quarter','part_1','part_2','part_3'], axis = 1, inplace = True)\n",
    "print(df1)"
   ]
  },
  {
   "cell_type": "markdown",
   "id": "18385ac8-99ad-4bb2-b93b-a16475274ab1",
   "metadata": {},
   "source": [
    "### Saved the file"
   ]
  },
  {
   "cell_type": "code",
   "execution_count": 203,
   "id": "6516a29c-00cf-4b55-9e16-f470f31585d7",
   "metadata": {
    "scrolled": true
   },
   "outputs": [],
   "source": [
    "df1.to_csv(\"ad_revenue.csv\",index=False)"
   ]
  },
  {
   "cell_type": "markdown",
   "id": "ed568c70-e06f-48ed-a888-cf93bc86b2fc",
   "metadata": {},
   "source": [
    "### Load the Digital Pilot dataset"
   ]
  },
  {
   "cell_type": "code",
   "execution_count": 27,
   "id": "35c0ba3f-c677-4897-b7c1-d2603f1e6cba",
   "metadata": {},
   "outputs": [
    {
     "name": "stdout",
     "output_type": "stream",
     "text": [
      "   Unnamed: 0           platform launch_month ad_category_id  dev_cost  \\\n",
      "0           0  PDF WhatsApp Push      2021-01           A001    236570   \n",
      "1           1  PDF WhatsApp Push      2021-02           A001    156865   \n",
      "2           2  PDF WhatsApp Push      2021-03           A001    242728   \n",
      "3           3  PDF WhatsApp Push      2021-04           A001    147695   \n",
      "4           4  PDF WhatsApp Push      2021-05           A001    325906   \n",
      "\n",
      "   marketing_cost  users_reached  downloads_or_accesses  avg_bounce_rate  \\\n",
      "0           66060          23509                  16319            52.55   \n",
      "1           99122          19472                  17017            82.53   \n",
      "2           46087           8471                   2891            68.06   \n",
      "3           78868          46796                  15640            66.17   \n",
      "4          135644          16805                   3231            76.90   \n",
      "\n",
      "                  cumulative_feedback_from_customers  \n",
      "0  Mixed feedback: some usability concerns, but h...  \n",
      "1  Mixed feedback: some usability concerns, but h...  \n",
      "2  Mixed feedback: some usability concerns, but h...  \n",
      "3  Mixed feedback: some usability concerns, but h...  \n",
      "4  The site takes too long to load on average pho...  \n"
     ]
    }
   ],
   "source": [
    "digital_pilot = pd.read_csv(\"C:/Users/Arshad/Desktop/Datasets/CodeBasics/Challenge #17/Datasets/fact_digital_pilot.csv\")\n",
    "df2 = pd.DataFrame(digital_pilot)\n",
    "print(df2.head())"
   ]
  },
  {
   "cell_type": "markdown",
   "id": "7fce9c4a-a366-4beb-b35a-01581afce88b",
   "metadata": {},
   "source": [
    "### Removed unnamed: 0 column"
   ]
  },
  {
   "cell_type": "code",
   "execution_count": 28,
   "id": "76c1477c-7d68-4467-a213-69b926cb91b0",
   "metadata": {},
   "outputs": [
    {
     "name": "stdout",
     "output_type": "stream",
     "text": [
      "            platform launch_month ad_category_id  dev_cost  marketing_cost  \\\n",
      "0  PDF WhatsApp Push      2021-01           A001    236570           66060   \n",
      "1  PDF WhatsApp Push      2021-02           A001    156865           99122   \n",
      "2  PDF WhatsApp Push      2021-03           A001    242728           46087   \n",
      "3  PDF WhatsApp Push      2021-04           A001    147695           78868   \n",
      "4  PDF WhatsApp Push      2021-05           A001    325906          135644   \n",
      "\n",
      "   users_reached  downloads_or_accesses  avg_bounce_rate  \\\n",
      "0          23509                  16319            52.55   \n",
      "1          19472                  17017            82.53   \n",
      "2           8471                   2891            68.06   \n",
      "3          46796                  15640            66.17   \n",
      "4          16805                   3231            76.90   \n",
      "\n",
      "                  cumulative_feedback_from_customers  \n",
      "0  Mixed feedback: some usability concerns, but h...  \n",
      "1  Mixed feedback: some usability concerns, but h...  \n",
      "2  Mixed feedback: some usability concerns, but h...  \n",
      "3  Mixed feedback: some usability concerns, but h...  \n",
      "4  The site takes too long to load on average pho...  \n"
     ]
    }
   ],
   "source": [
    "df2.drop('Unnamed: 0', axis = 1, inplace = True)\n",
    "print(df2.head())"
   ]
  },
  {
   "cell_type": "markdown",
   "id": "e230e23d-ac41-445c-921a-853d0fae5e69",
   "metadata": {},
   "source": [
    "### Check Data Information"
   ]
  },
  {
   "cell_type": "code",
   "execution_count": 29,
   "id": "2c98ffa5-520f-4361-924e-f78d8e5d0000",
   "metadata": {},
   "outputs": [
    {
     "name": "stdout",
     "output_type": "stream",
     "text": [
      "<class 'pandas.core.frame.DataFrame'>\n",
      "RangeIndex: 48 entries, 0 to 47\n",
      "Data columns (total 9 columns):\n",
      " #   Column                              Non-Null Count  Dtype  \n",
      "---  ------                              --------------  -----  \n",
      " 0   platform                            48 non-null     object \n",
      " 1   launch_month                        48 non-null     object \n",
      " 2   ad_category_id                      48 non-null     object \n",
      " 3   dev_cost                            48 non-null     int64  \n",
      " 4   marketing_cost                      48 non-null     int64  \n",
      " 5   users_reached                       48 non-null     int64  \n",
      " 6   downloads_or_accesses               48 non-null     int64  \n",
      " 7   avg_bounce_rate                     48 non-null     float64\n",
      " 8   cumulative_feedback_from_customers  47 non-null     object \n",
      "dtypes: float64(1), int64(4), object(4)\n",
      "memory usage: 3.5+ KB\n",
      "None\n"
     ]
    }
   ],
   "source": [
    "print(df2.info())"
   ]
  },
  {
   "cell_type": "markdown",
   "id": "680ca85f-ea0c-44f1-98cc-4f6d5bd4d03e",
   "metadata": {},
   "source": [
    "### Reformat column headers to title case"
   ]
  },
  {
   "cell_type": "code",
   "execution_count": 30,
   "id": "c3fa2326-fa62-460b-ac1a-0f0b0b842493",
   "metadata": {},
   "outputs": [
    {
     "name": "stdout",
     "output_type": "stream",
     "text": [
      "            Platform Launch_Month Ad_Category_Id  Dev_Cost  Marketing_Cost  \\\n",
      "0  PDF WhatsApp Push      2021-01           A001    236570           66060   \n",
      "1  PDF WhatsApp Push      2021-02           A001    156865           99122   \n",
      "2  PDF WhatsApp Push      2021-03           A001    242728           46087   \n",
      "3  PDF WhatsApp Push      2021-04           A001    147695           78868   \n",
      "4  PDF WhatsApp Push      2021-05           A001    325906          135644   \n",
      "\n",
      "   Users_Reached  Downloads_Or_Accesses  Avg_Bounce_Rate  \\\n",
      "0          23509                  16319            52.55   \n",
      "1          19472                  17017            82.53   \n",
      "2           8471                   2891            68.06   \n",
      "3          46796                  15640            66.17   \n",
      "4          16805                   3231            76.90   \n",
      "\n",
      "                  Cumulative_Feedback_From_Customers  \n",
      "0  Mixed feedback: some usability concerns, but h...  \n",
      "1  Mixed feedback: some usability concerns, but h...  \n",
      "2  Mixed feedback: some usability concerns, but h...  \n",
      "3  Mixed feedback: some usability concerns, but h...  \n",
      "4  The site takes too long to load on average pho...  \n"
     ]
    }
   ],
   "source": [
    "df2.columns = df2.columns.str.title()\n",
    "print(df2.head())"
   ]
  },
  {
   "cell_type": "markdown",
   "id": "638560cd-078e-47f7-8b28-a48cbc8f0c0a",
   "metadata": {},
   "source": [
    "### Check uniquness of the columns"
   ]
  },
  {
   "cell_type": "code",
   "execution_count": 31,
   "id": "3891c7cf-923a-4f2c-8379-ee63712fcf1b",
   "metadata": {},
   "outputs": [
    {
     "name": "stdout",
     "output_type": "stream",
     "text": [
      "['PDF WhatsApp Push' 'E-paper Mobile Web' 'Mobile App Beta'\n",
      " 'Responsive Web Version']\n",
      "['Mixed feedback: some usability concerns, but high interest in WhatsApp format.'\n",
      " 'The site takes too long to load on average phones.\\nPeople didn’t wait around.'\n",
      " 'Many said font was too tiny to read.\\nZooming didn’t help on small screens.'\n",
      " nan]\n",
      "['2021-01' '2021-02' '2021-03' '2021-04' '2021-05' '2021-06' '2021-07'\n",
      " '2021-08' '2021-09' '2021-10' '2021-11' '2021-12']\n"
     ]
    }
   ],
   "source": [
    "print(df2['Platform'].unique())\n",
    "print(df2['Cumulative_Feedback_From_Customers'].unique())\n",
    "print(df2['Launch_Month'].unique())"
   ]
  },
  {
   "cell_type": "markdown",
   "id": "4583d4fc-b9f5-4345-bc83-ea68c563c78c",
   "metadata": {},
   "source": [
    "### Change the lauch month format from yyyy-mm to mmm-yy"
   ]
  },
  {
   "cell_type": "code",
   "execution_count": 32,
   "id": "203cf912-a234-4467-aa38-bd4fba452e98",
   "metadata": {},
   "outputs": [
    {
     "name": "stdout",
     "output_type": "stream",
     "text": [
      "            Platform Ad_Category_Id  Dev_Cost  Marketing_Cost  Users_Reached  \\\n",
      "0  PDF WhatsApp Push           A001    236570           66060          23509   \n",
      "1  PDF WhatsApp Push           A001    156865           99122          19472   \n",
      "2  PDF WhatsApp Push           A001    242728           46087           8471   \n",
      "3  PDF WhatsApp Push           A001    147695           78868          46796   \n",
      "4  PDF WhatsApp Push           A001    325906          135644          16805   \n",
      "\n",
      "   Downloads_Or_Accesses  Avg_Bounce_Rate  \\\n",
      "0                  16319            52.55   \n",
      "1                  17017            82.53   \n",
      "2                   2891            68.06   \n",
      "3                  15640            66.17   \n",
      "4                   3231            76.90   \n",
      "\n",
      "                  Cumulative_Feedback_From_Customers  Year Month Launch Month  \n",
      "0  Mixed feedback: some usability concerns, but h...  2021    01       Jan-21  \n",
      "1  Mixed feedback: some usability concerns, but h...  2021    02       Feb-21  \n",
      "2  Mixed feedback: some usability concerns, but h...  2021    03       Mar-21  \n",
      "3  Mixed feedback: some usability concerns, but h...  2021    04       Apr-21  \n",
      "4  The site takes too long to load on average pho...  2021    05       May-21  \n"
     ]
    },
    {
     "name": "stderr",
     "output_type": "stream",
     "text": [
      "C:\\Users\\Arshad\\AppData\\Local\\Temp\\ipykernel_22200\\734687032.py:4: UserWarning: Could not infer format, so each element will be parsed individually, falling back to `dateutil`. To ensure parsing is consistent and as-expected, please specify a format.\n",
      "  df2['Launch Month']= pd.to_datetime(df2['Launch Month'])\n"
     ]
    }
   ],
   "source": [
    "df2[['Year','Month']] = df2['Launch_Month'].str.split('-', expand = True)\n",
    "df2.drop('Launch_Month', axis = 1, inplace = True)\n",
    "df2['Launch Month'] = df2['Month']+ '-'+ df2['Year']\n",
    "df2['Launch Month']= pd.to_datetime(df2['Launch Month'])\n",
    "df2['Launch Month']= df2['Launch Month'].dt.strftime('%b-%y')\n",
    "print(df2.head())"
   ]
  },
  {
   "cell_type": "markdown",
   "id": "efee2d5e-ba91-4fca-8e6a-489098e62fc2",
   "metadata": {},
   "source": [
    "### Divide the avg_bounce_rate by 100 "
   ]
  },
  {
   "cell_type": "code",
   "execution_count": 33,
   "id": "a4535815-522b-4e3a-aaa2-67150baaa09d",
   "metadata": {},
   "outputs": [
    {
     "name": "stdout",
     "output_type": "stream",
     "text": [
      "            Platform Ad_Category_Id  Dev_Cost  Marketing_Cost  Users_Reached  \\\n",
      "0  PDF WhatsApp Push           A001    236570           66060          23509   \n",
      "1  PDF WhatsApp Push           A001    156865           99122          19472   \n",
      "2  PDF WhatsApp Push           A001    242728           46087           8471   \n",
      "3  PDF WhatsApp Push           A001    147695           78868          46796   \n",
      "4  PDF WhatsApp Push           A001    325906          135644          16805   \n",
      "\n",
      "   Downloads_Or_Accesses  Avg_Bounce_Rate  \\\n",
      "0                  16319           0.5255   \n",
      "1                  17017           0.8253   \n",
      "2                   2891           0.6806   \n",
      "3                  15640           0.6617   \n",
      "4                   3231           0.7690   \n",
      "\n",
      "                  Cumulative_Feedback_From_Customers  Year Month Launch Month  \n",
      "0  Mixed feedback: some usability concerns, but h...  2021    01       Jan-21  \n",
      "1  Mixed feedback: some usability concerns, but h...  2021    02       Feb-21  \n",
      "2  Mixed feedback: some usability concerns, but h...  2021    03       Mar-21  \n",
      "3  Mixed feedback: some usability concerns, but h...  2021    04       Apr-21  \n",
      "4  The site takes too long to load on average pho...  2021    05       May-21  \n"
     ]
    }
   ],
   "source": [
    "df2['Avg_Bounce_Rate'] = df2['Avg_Bounce_Rate']/100\n",
    "print(df2.head())"
   ]
  },
  {
   "cell_type": "markdown",
   "id": "7dff6c12-5ca0-4135-81c5-41e66f1efbd1",
   "metadata": {},
   "source": [
    "### Saved the file"
   ]
  },
  {
   "cell_type": "code",
   "execution_count": 10,
   "id": "06aa74b0-9e77-4308-9929-7c18220dd7ea",
   "metadata": {},
   "outputs": [],
   "source": [
    "df2.to_csv(\"digital_pilot.csv\",index=False)"
   ]
  },
  {
   "cell_type": "markdown",
   "id": "d8f54b9c-7d9a-4a01-b654-05f6449b2726",
   "metadata": {},
   "source": [
    "### Load the City_readiness dataset"
   ]
  },
  {
   "cell_type": "code",
   "execution_count": 36,
   "id": "93f0b1f2-e9ae-4c9b-9abe-da94d3e77233",
   "metadata": {},
   "outputs": [
    {
     "name": "stdout",
     "output_type": "stream",
     "text": [
      "     Unnamed: 0 city_id  quarter  literacy_rate  smartphone_penetration  \\\n",
      "0             0    C001  2019-Q1          89.16                   75.76   \n",
      "1             1    C001  2019-Q2          88.76                   76.45   \n",
      "2             2    C001  2019-Q3          88.83                   75.32   \n",
      "3             3    C001  2019-Q4          89.25                   75.83   \n",
      "4             4    C001  2020-Q1          89.13                   75.03   \n",
      "..          ...     ...      ...            ...                     ...   \n",
      "235         235    C010  2023-Q4          70.92                   77.75   \n",
      "236         236    C010  2024-Q1          70.77                   77.29   \n",
      "237         237    C010  2024-Q2          70.79                   77.86   \n",
      "238         238    C010  2024-Q3          70.81                   77.53   \n",
      "239         239    C010  2024-Q4          70.79                   78.67   \n",
      "\n",
      "     internet_penetration  \n",
      "0                   56.53  \n",
      "1                   55.97  \n",
      "2                   56.52  \n",
      "3                   56.94  \n",
      "4                   56.45  \n",
      "..                    ...  \n",
      "235                 74.83  \n",
      "236                 74.30  \n",
      "237                 76.16  \n",
      "238                 75.04  \n",
      "239                 75.28  \n",
      "\n",
      "[240 rows x 6 columns]\n"
     ]
    }
   ],
   "source": [
    "city_readiness = pd.read_csv(\"C:/Users/Arshad/Desktop/Datasets/CodeBasics/Challenge #17/Datasets/fact_city_readiness.csv\")\n",
    "df3 = pd.DataFrame(city_readiness)\n",
    "print(df3)"
   ]
  },
  {
   "cell_type": "markdown",
   "id": "34df34d6-0fb2-4fb9-b9ab-f4be98cc2460",
   "metadata": {},
   "source": [
    "### Removed unnamed: 0 column"
   ]
  },
  {
   "cell_type": "code",
   "execution_count": 37,
   "id": "ef27bf0d-a57d-47ef-8b40-592b949b66b6",
   "metadata": {},
   "outputs": [
    {
     "name": "stdout",
     "output_type": "stream",
     "text": [
      "    city_id  quarter  literacy_rate  smartphone_penetration  \\\n",
      "0      C001  2019-Q1          89.16                   75.76   \n",
      "1      C001  2019-Q2          88.76                   76.45   \n",
      "2      C001  2019-Q3          88.83                   75.32   \n",
      "3      C001  2019-Q4          89.25                   75.83   \n",
      "4      C001  2020-Q1          89.13                   75.03   \n",
      "..      ...      ...            ...                     ...   \n",
      "235    C010  2023-Q4          70.92                   77.75   \n",
      "236    C010  2024-Q1          70.77                   77.29   \n",
      "237    C010  2024-Q2          70.79                   77.86   \n",
      "238    C010  2024-Q3          70.81                   77.53   \n",
      "239    C010  2024-Q4          70.79                   78.67   \n",
      "\n",
      "     internet_penetration  \n",
      "0                   56.53  \n",
      "1                   55.97  \n",
      "2                   56.52  \n",
      "3                   56.94  \n",
      "4                   56.45  \n",
      "..                    ...  \n",
      "235                 74.83  \n",
      "236                 74.30  \n",
      "237                 76.16  \n",
      "238                 75.04  \n",
      "239                 75.28  \n",
      "\n",
      "[240 rows x 5 columns]\n"
     ]
    }
   ],
   "source": [
    "df3.drop('Unnamed: 0', axis = 1, inplace = True)\n",
    "print(df3)"
   ]
  },
  {
   "cell_type": "markdown",
   "id": "ce564dde-56bc-4250-ad4f-19c22c1143fa",
   "metadata": {},
   "source": [
    "### Check Data Information"
   ]
  },
  {
   "cell_type": "code",
   "execution_count": 38,
   "id": "79241eb5-b084-452f-9ee4-190083b0a489",
   "metadata": {},
   "outputs": [
    {
     "name": "stdout",
     "output_type": "stream",
     "text": [
      "<class 'pandas.core.frame.DataFrame'>\n",
      "RangeIndex: 240 entries, 0 to 239\n",
      "Data columns (total 5 columns):\n",
      " #   Column                  Non-Null Count  Dtype  \n",
      "---  ------                  --------------  -----  \n",
      " 0   city_id                 240 non-null    object \n",
      " 1   quarter                 240 non-null    object \n",
      " 2   literacy_rate           240 non-null    float64\n",
      " 3   smartphone_penetration  240 non-null    float64\n",
      " 4   internet_penetration    240 non-null    float64\n",
      "dtypes: float64(3), object(2)\n",
      "memory usage: 9.5+ KB\n",
      "None\n"
     ]
    }
   ],
   "source": [
    "print(df3.info())"
   ]
  },
  {
   "cell_type": "markdown",
   "id": "b7788223-9912-42b7-a49c-21443b837f90",
   "metadata": {},
   "source": [
    "### Reformat column headers to title case"
   ]
  },
  {
   "cell_type": "code",
   "execution_count": 39,
   "id": "3b8a2ac3-766c-4e0b-9dfd-f0ef1ab87ee0",
   "metadata": {},
   "outputs": [
    {
     "name": "stdout",
     "output_type": "stream",
     "text": [
      "    City_Id  Quarter  Literacy_Rate  Smartphone_Penetration  \\\n",
      "0      C001  2019-Q1          89.16                   75.76   \n",
      "1      C001  2019-Q2          88.76                   76.45   \n",
      "2      C001  2019-Q3          88.83                   75.32   \n",
      "3      C001  2019-Q4          89.25                   75.83   \n",
      "4      C001  2020-Q1          89.13                   75.03   \n",
      "..      ...      ...            ...                     ...   \n",
      "235    C010  2023-Q4          70.92                   77.75   \n",
      "236    C010  2024-Q1          70.77                   77.29   \n",
      "237    C010  2024-Q2          70.79                   77.86   \n",
      "238    C010  2024-Q3          70.81                   77.53   \n",
      "239    C010  2024-Q4          70.79                   78.67   \n",
      "\n",
      "     Internet_Penetration  \n",
      "0                   56.53  \n",
      "1                   55.97  \n",
      "2                   56.52  \n",
      "3                   56.94  \n",
      "4                   56.45  \n",
      "..                    ...  \n",
      "235                 74.83  \n",
      "236                 74.30  \n",
      "237                 76.16  \n",
      "238                 75.04  \n",
      "239                 75.28  \n",
      "\n",
      "[240 rows x 5 columns]\n"
     ]
    }
   ],
   "source": [
    "df3.columns = df3.columns.str.title()\n",
    "print(df3)"
   ]
  },
  {
   "cell_type": "markdown",
   "id": "9051f65e-7975-4a11-bceb-ceff885bf56c",
   "metadata": {},
   "source": [
    "### check the uniquness of column"
   ]
  },
  {
   "cell_type": "code",
   "execution_count": 35,
   "id": "b217bc06-da67-44ea-a78d-fb3d831d3ee8",
   "metadata": {},
   "outputs": [
    {
     "name": "stdout",
     "output_type": "stream",
     "text": [
      "['2019-Q1' '2019-Q2' '2019-Q3' '2019-Q4' '2020-Q1' '2020-Q2' '2020-Q3'\n",
      " '2020-Q4' '2021-Q1' '2021-Q2' '2021-Q3' '2021-Q4' '2022-Q1' '2022-Q2'\n",
      " '2022-Q3' '2022-Q4' '2023-Q1' '2023-Q2' '2023-Q3' '2023-Q4' '2024-Q1'\n",
      " '2024-Q2' '2024-Q3' '2024-Q4']\n"
     ]
    }
   ],
   "source": [
    "print(df3['Quarter'].unique())"
   ]
  },
  {
   "cell_type": "markdown",
   "id": "df4d0719-5175-48ce-b516-3e5343f21d51",
   "metadata": {},
   "source": [
    "### Change Quarter format to Q - yyyy"
   ]
  },
  {
   "cell_type": "code",
   "execution_count": 41,
   "id": "a038d9d5-c28c-4588-987e-b16d4e925fd3",
   "metadata": {},
   "outputs": [
    {
     "name": "stdout",
     "output_type": "stream",
     "text": [
      "    City_Id  Literacy_Rate  Smartphone_Penetration  Internet_Penetration  \\\n",
      "0      C001          89.16                   75.76                 56.53   \n",
      "1      C001          88.76                   76.45                 55.97   \n",
      "2      C001          88.83                   75.32                 56.52   \n",
      "3      C001          89.25                   75.83                 56.94   \n",
      "4      C001          89.13                   75.03                 56.45   \n",
      "..      ...            ...                     ...                   ...   \n",
      "235    C010          70.92                   77.75                 74.83   \n",
      "236    C010          70.77                   77.29                 74.30   \n",
      "237    C010          70.79                   77.86                 76.16   \n",
      "238    C010          70.81                   77.53                 75.04   \n",
      "239    C010          70.79                   78.67                 75.28   \n",
      "\n",
      "     Year Quart Quart_Year  \n",
      "0    2019    Q1    Q1-2019  \n",
      "1    2019    Q2    Q2-2019  \n",
      "2    2019    Q3    Q3-2019  \n",
      "3    2019    Q4    Q4-2019  \n",
      "4    2020    Q1    Q1-2020  \n",
      "..    ...   ...        ...  \n",
      "235  2023    Q4    Q4-2023  \n",
      "236  2024    Q1    Q1-2024  \n",
      "237  2024    Q2    Q2-2024  \n",
      "238  2024    Q3    Q3-2024  \n",
      "239  2024    Q4    Q4-2024  \n",
      "\n",
      "[240 rows x 7 columns]\n"
     ]
    }
   ],
   "source": [
    "df3[['Year','Quart']] = df3['Quarter'].str.split('-', expand= True)\n",
    "df3.drop('Quarter', axis =1, inplace = True)\n",
    "df3['Quart_Year'] = df3['Quart']+ '-'+ df3['Year']\n",
    "print(df3)"
   ]
  },
  {
   "cell_type": "markdown",
   "id": "283f7812-de67-42fe-8268-1eb0a9f90972",
   "metadata": {},
   "source": [
    "### Divide the Literacy_Rate, Smartphone_Penetration, Internet_Penetration coulmn values by 100"
   ]
  },
  {
   "cell_type": "code",
   "execution_count": 42,
   "id": "107f4666-52d6-487e-b320-6f2a9e20e22b",
   "metadata": {},
   "outputs": [
    {
     "name": "stdout",
     "output_type": "stream",
     "text": [
      "    City_Id  Literacy_Rate  Smartphone_Penetration  Internet_Penetration  \\\n",
      "0      C001         0.8916                  0.7576                0.5653   \n",
      "1      C001         0.8876                  0.7645                0.5597   \n",
      "2      C001         0.8883                  0.7532                0.5652   \n",
      "3      C001         0.8925                  0.7583                0.5694   \n",
      "4      C001         0.8913                  0.7503                0.5645   \n",
      "..      ...            ...                     ...                   ...   \n",
      "235    C010         0.7092                  0.7775                0.7483   \n",
      "236    C010         0.7077                  0.7729                0.7430   \n",
      "237    C010         0.7079                  0.7786                0.7616   \n",
      "238    C010         0.7081                  0.7753                0.7504   \n",
      "239    C010         0.7079                  0.7867                0.7528   \n",
      "\n",
      "     Year Quart Quart_Year  \n",
      "0    2019    Q1    Q1-2019  \n",
      "1    2019    Q2    Q2-2019  \n",
      "2    2019    Q3    Q3-2019  \n",
      "3    2019    Q4    Q4-2019  \n",
      "4    2020    Q1    Q1-2020  \n",
      "..    ...   ...        ...  \n",
      "235  2023    Q4    Q4-2023  \n",
      "236  2024    Q1    Q1-2024  \n",
      "237  2024    Q2    Q2-2024  \n",
      "238  2024    Q3    Q3-2024  \n",
      "239  2024    Q4    Q4-2024  \n",
      "\n",
      "[240 rows x 7 columns]\n"
     ]
    }
   ],
   "source": [
    "columns_to_change = ['Literacy_Rate','Smartphone_Penetration', 'Internet_Penetration']\n",
    "for col in columns_to_change:\n",
    "    df3[col] = df3[col]/100\n",
    "    \n",
    "print(df3)"
   ]
  },
  {
   "cell_type": "markdown",
   "id": "6f591e52-33a2-4793-8c8f-e9e0f0d7f91b",
   "metadata": {},
   "source": [
    "### Saved the file"
   ]
  },
  {
   "cell_type": "code",
   "execution_count": 204,
   "id": "03258c58-d681-430f-a418-53330dca8e04",
   "metadata": {},
   "outputs": [],
   "source": [
    "df3.to_csv(\"city_readiness.csv\",index=False)"
   ]
  },
  {
   "cell_type": "markdown",
   "id": "ade2725f-5f6b-40e3-aef7-fcfac32e9e4b",
   "metadata": {},
   "source": [
    "### Load the dim_city dataset"
   ]
  },
  {
   "cell_type": "code",
   "execution_count": 11,
   "id": "180d9233-055b-4b9d-ade1-aa18c85f3210",
   "metadata": {},
   "outputs": [
    {
     "name": "stdout",
     "output_type": "stream",
     "text": [
      "  city_id       city           state    tier\n",
      "0    C001    lucknow   Uttar Pradesh  Tier 2\n",
      "1    C002      Delhi           DELHI  Tier 1\n",
      "2    C003     bhopal  Madhya Pradesh  Tier 2\n",
      "3    C004      Patna           BIHAR  Tier 2\n",
      "4    C005     jaipur       Rajasthan  Tier 2\n",
      "5    C006     Mumbai     MAHARASHTRA  Tier 1\n",
      "6    C007     ranchi       JHARKHAND  Tier 3\n",
      "7    C008     kanpur   UTTAR PRADESH  Tier 2\n",
      "8    C009  Ahmedabad         GUJARAT  Tier 1\n",
      "9    C010   Varanasi   Uttar Pradesh  Tier 2\n"
     ]
    }
   ],
   "source": [
    "dim_city = pd.read_excel(\"C:/Users/Arshad/Desktop/Datasets/CodeBasics/Challenge #17/Datasets/dim_city.xlsx\")\n",
    "df4 = pd.DataFrame(dim_city)\n",
    "print(df4)"
   ]
  },
  {
   "cell_type": "markdown",
   "id": "c81c1b58-39bd-4e85-8e1e-13d3fb520eba",
   "metadata": {},
   "source": [
    "### Reformat column headers to title case"
   ]
  },
  {
   "cell_type": "code",
   "execution_count": 12,
   "id": "71fa2c3c-3001-4880-9329-f388af0a6339",
   "metadata": {},
   "outputs": [
    {
     "name": "stdout",
     "output_type": "stream",
     "text": [
      "  City_Id       City           State    Tier\n",
      "0    C001    lucknow   Uttar Pradesh  Tier 2\n",
      "1    C002      Delhi           DELHI  Tier 1\n",
      "2    C003     bhopal  Madhya Pradesh  Tier 2\n",
      "3    C004      Patna           BIHAR  Tier 2\n",
      "4    C005     jaipur       Rajasthan  Tier 2\n",
      "5    C006     Mumbai     MAHARASHTRA  Tier 1\n",
      "6    C007     ranchi       JHARKHAND  Tier 3\n",
      "7    C008     kanpur   UTTAR PRADESH  Tier 2\n",
      "8    C009  Ahmedabad         GUJARAT  Tier 1\n",
      "9    C010   Varanasi   Uttar Pradesh  Tier 2\n"
     ]
    }
   ],
   "source": [
    "df4.columns = df4.columns.str.title()\n",
    "print(df4)"
   ]
  },
  {
   "cell_type": "markdown",
   "id": "8de1fbb3-2eb4-426b-9b14-a0748616daba",
   "metadata": {},
   "source": [
    "### Check uniquess of columns"
   ]
  },
  {
   "cell_type": "code",
   "execution_count": 16,
   "id": "8b6960ec-4ef3-4a72-b233-d87046918c34",
   "metadata": {},
   "outputs": [
    {
     "name": "stdout",
     "output_type": "stream",
     "text": [
      "['lucknow' 'Delhi' 'bhopal' 'Patna' 'jaipur' 'Mumbai' 'ranchi' 'kanpur'\n",
      " 'Ahmedabad' 'Varanasi']\n",
      "['Uttar Pradesh' 'DELHI' 'Madhya Pradesh' 'BIHAR' 'Rajasthan'\n",
      " 'MAHARASHTRA' 'JHARKHAND' 'UTTAR PRADESH' 'GUJARAT']\n"
     ]
    }
   ],
   "source": [
    "print(df4['City'].unique())\n",
    "print(df4['State'].unique())"
   ]
  },
  {
   "cell_type": "markdown",
   "id": "1dee5eb0-c22d-4f68-b0ae-7ff0a477807c",
   "metadata": {},
   "source": [
    "### Format city and state values"
   ]
  },
  {
   "cell_type": "code",
   "execution_count": 17,
   "id": "a3fc45eb-f037-4273-b8c5-2318b929a73c",
   "metadata": {},
   "outputs": [
    {
     "name": "stdout",
     "output_type": "stream",
     "text": [
      "  City_Id       City           State    Tier\n",
      "0    C001    Lucknow   Uttar Pradesh  Tier 2\n",
      "1    C002      Delhi           Delhi  Tier 1\n",
      "2    C003     Bhopal  Madhya Pradesh  Tier 2\n",
      "3    C004      Patna           Bihar  Tier 2\n",
      "4    C005     Jaipur       Rajasthan  Tier 2\n",
      "5    C006     Mumbai     Maharashtra  Tier 1\n",
      "6    C007     Ranchi       Jharkhand  Tier 3\n",
      "7    C008     Kanpur   Uttar Pradesh  Tier 2\n",
      "8    C009  Ahmedabad         Gujarat  Tier 1\n",
      "9    C010   Varanasi   Uttar Pradesh  Tier 2\n"
     ]
    }
   ],
   "source": [
    "columns_to_change = ['City','State']\n",
    "for col in columns_to_change:\n",
    "    df4[col] = df4[col].str.title()\n",
    "    \n",
    "print(df4)"
   ]
  },
  {
   "cell_type": "markdown",
   "id": "481fb3a2-9bc6-4b07-8215-3ac1f97dbbed",
   "metadata": {},
   "source": [
    "### Saved the file"
   ]
  },
  {
   "cell_type": "code",
   "execution_count": 18,
   "id": "0721acac-ac3b-4445-a84b-9d84d76a377b",
   "metadata": {},
   "outputs": [],
   "source": [
    "df4.to_csv(\"dim_city.csv\",index=False)"
   ]
  }
 ],
 "metadata": {
  "kernelspec": {
   "display_name": "Python 3 (ipykernel)",
   "language": "python",
   "name": "python3"
  },
  "language_info": {
   "codemirror_mode": {
    "name": "ipython",
    "version": 3
   },
   "file_extension": ".py",
   "mimetype": "text/x-python",
   "name": "python",
   "nbconvert_exporter": "python",
   "pygments_lexer": "ipython3",
   "version": "3.12.6"
  }
 },
 "nbformat": 4,
 "nbformat_minor": 5
}
